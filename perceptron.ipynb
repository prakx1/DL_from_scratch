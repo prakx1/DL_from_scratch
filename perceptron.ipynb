{
 "cells": [
  {
   "cell_type": "markdown",
   "metadata": {},
   "source": [
    "# PERCEPTRON ALGORITHM"
   ]
  },
  {
   "cell_type": "markdown",
   "metadata": {},
   "source": [
    "w = w + learning_rate * (expected - predicted) * x"
   ]
  },
  {
   "cell_type": "code",
   "execution_count": 166,
   "metadata": {},
   "outputs": [],
   "source": [
    "def predict(row, weights):\n",
    "    activation = weights[0]\n",
    "    for i in range(1,len(weights)):\n",
    "        activation += weights[i]*row[i-1]\n",
    "    return 1 if activation>=0.0 else 0.0\n",
    "\n",
    "def train_weights(train,learning_rate, epochs):\n",
    "    weights =[0.0 for i in range(len(train[0]))]\n",
    "    for epoch in range(epochs):\n",
    "        sum_error = 0.0\n",
    "        for row in train:\n",
    "            prediction = predict(row,weights)\n",
    "            error = row[-1] - prediction\n",
    "            sum_error += error**2\n",
    "            weights [0]= weights[0]+ learning_rate*(error)\n",
    "            for i in range(len(row)-1):\n",
    "                weights[i+1] = weights[i+1] +learning_rate*error*row[i]\n",
    "                \n",
    "        print(\"epoch={} learning_rate={} error={}\".format(epoch,learning_rate,sum_error))\n",
    "    return weights "
   ]
  },
  {
   "cell_type": "code",
   "execution_count": 167,
   "metadata": {},
   "outputs": [],
   "source": [
    "dataset = [[2.7810836,2.550537003,0],\n",
    "\t[1.465489372,2.362125076,0],\n",
    "\t[3.396561688,4.400293529,0],\n",
    "\t[1.38807019,1.850220317,0],\n",
    "\t[3.06407232,3.005305973,0],\n",
    "\t[7.627531214,2.759262235,1],\n",
    "\t[5.332441248,2.088626775,1],\n",
    "\t[6.922596716,1.77106367,1],\n",
    "\t[8.675418651,-0.242068655,1],\n",
    "\t[7.673756466,3.508563011,1]]\n",
    "weights = [-0.1, 0.20653640140000007, -0.23418117710000003]\n",
    "\n"
   ]
  },
  {
   "cell_type": "code",
   "execution_count": 168,
   "metadata": {},
   "outputs": [
    {
     "name": "stdout",
     "output_type": "stream",
     "text": [
      "expected=0, predicted=0.0\n",
      "expected=0, predicted=0.0\n",
      "expected=0, predicted=0.0\n",
      "expected=0, predicted=0.0\n",
      "expected=0, predicted=0.0\n",
      "expected=1, predicted=1\n",
      "expected=1, predicted=1\n",
      "expected=1, predicted=1\n",
      "expected=1, predicted=1\n",
      "expected=1, predicted=1\n"
     ]
    }
   ],
   "source": [
    "for row in dataset:\n",
    "    prediction = predict(row,weights)\n",
    "    print(\"expected={}, predicted={}\".format(row[-1],prediction))"
   ]
  },
  {
   "cell_type": "code",
   "execution_count": 169,
   "metadata": {},
   "outputs": [
    {
     "name": "stdout",
     "output_type": "stream",
     "text": [
      "epoch=0 learning_rate=0.1 error=2.0\n",
      "epoch=1 learning_rate=0.1 error=1.0\n",
      "epoch=2 learning_rate=0.1 error=0.0\n",
      "epoch=3 learning_rate=0.1 error=0.0\n",
      "epoch=4 learning_rate=0.1 error=0.0\n",
      "[-0.1, 0.20653640140000007, -0.23418117710000003]\n"
     ]
    }
   ],
   "source": [
    "dataset = [[2.7810836,2.550537003,0],\n",
    "\t[1.465489372,2.362125076,0],\n",
    "\t[3.396561688,4.400293529,0],\n",
    "\t[1.38807019,1.850220317,0],\n",
    "\t[3.06407232,3.005305973,0],\n",
    "\t[7.627531214,2.759262235,1],\n",
    "\t[5.332441248,2.088626775,1],\n",
    "\t[6.922596716,1.77106367,1],\n",
    "\t[8.675418651,-0.242068655,1],\n",
    "\t[7.673756466,3.508563011,1]]\n",
    "l_rate = 0.1\n",
    "n_epoch = 5\n",
    "weights = train_weights(dataset, l_rate, n_epoch)\n",
    "print(weights)"
   ]
  },
  {
   "cell_type": "code",
   "execution_count": 181,
   "metadata": {},
   "outputs": [
    {
     "name": "stdout",
     "output_type": "stream",
     "text": [
      "epoch=0 learning_rate=0.1 error=3.0\n",
      "epoch=1 learning_rate=0.1 error=2.0\n",
      "epoch=2 learning_rate=0.1 error=2.0\n",
      "epoch=3 learning_rate=0.1 error=3.0\n",
      "epoch=4 learning_rate=0.1 error=0.0\n",
      "epoch=5 learning_rate=0.1 error=0.0\n",
      "epoch=6 learning_rate=0.1 error=0.0\n",
      "epoch=7 learning_rate=0.1 error=0.0\n",
      "epoch=8 learning_rate=0.1 error=0.0\n",
      "epoch=9 learning_rate=0.1 error=0.0\n",
      "[-0.20000000000000004, 0.1, 0.2]\n"
     ]
    }
   ],
   "source": [
    "#AND GATE PERCEPTRON ALGORITHM\n",
    "ordataset=[[1,0,0],\n",
    "           [0,1,0],\n",
    "        [1,1,1],\n",
    "        [0,0,0]]\n",
    "l_rate = 0.1\n",
    "n_epoch = 10\n",
    "weights = train_weights(ordataset, l_rate, n_epoch)\n",
    "print(weights)"
   ]
  },
  {
   "cell_type": "code",
   "execution_count": 183,
   "metadata": {},
   "outputs": [
    {
     "name": "stdout",
     "output_type": "stream",
     "text": [
      "epoch=0 learning_rate=0.1 error=1.0\n",
      "epoch=1 learning_rate=0.1 error=2.0\n",
      "epoch=2 learning_rate=0.1 error=0.0\n",
      "epoch=3 learning_rate=0.1 error=0.0\n",
      "epoch=4 learning_rate=0.1 error=0.0\n",
      "epoch=5 learning_rate=0.1 error=0.0\n",
      "epoch=6 learning_rate=0.1 error=0.0\n",
      "epoch=7 learning_rate=0.1 error=0.0\n",
      "epoch=8 learning_rate=0.1 error=0.0\n",
      "epoch=9 learning_rate=0.1 error=0.0\n",
      "[-0.1, 0.1, 0.1]\n"
     ]
    }
   ],
   "source": [
    "ordataset=[[1,1,1],\n",
    "           [0,1,1],\n",
    "        [1,0,1],\n",
    "        [0,0,0]]\n",
    "l_rate = 0.1\n",
    "n_epoch = 10\n",
    "weights = train_weights(ordataset, l_rate, n_epoch)\n",
    "print(weights)"
   ]
  },
  {
   "cell_type": "code",
   "execution_count": 191,
   "metadata": {},
   "outputs": [
    {
     "data": {
      "text/plain": [
       "1"
      ]
     },
     "execution_count": 191,
     "metadata": {},
     "output_type": "execute_result"
    }
   ],
   "source": [
    "predict([1,0],weights)"
   ]
  }
 ],
 "metadata": {
  "kernelspec": {
   "display_name": "Python 3",
   "language": "python",
   "name": "python3"
  },
  "language_info": {
   "codemirror_mode": {
    "name": "ipython",
    "version": 3
   },
   "file_extension": ".py",
   "mimetype": "text/x-python",
   "name": "python",
   "nbconvert_exporter": "python",
   "pygments_lexer": "ipython3",
   "version": "3.9.2"
  }
 },
 "nbformat": 4,
 "nbformat_minor": 4
}
